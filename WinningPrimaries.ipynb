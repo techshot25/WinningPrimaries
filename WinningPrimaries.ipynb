{
  "nbformat": 4,
  "nbformat_minor": 0,
  "metadata": {
    "colab": {
      "name": "WinningPrimaries.ipynb",
      "version": "0.3.2",
      "provenance": [],
      "toc_visible": true,
      "include_colab_link": true
    },
    "kernelspec": {
      "name": "python3",
      "display_name": "Python 3"
    }
  },
  "cells": [
    {
      "cell_type": "markdown",
      "metadata": {
        "id": "view-in-github",
        "colab_type": "text"
      },
      "source": [
        "<a href=\"https://colab.research.google.com/github/techshot25/WinningPrimaries/blob/master/WinningPrimaries.ipynb\" target=\"_parent\"><img src=\"https://colab.research.google.com/assets/colab-badge.svg\" alt=\"Open In Colab\"/></a>"
      ]
    },
    {
      "metadata": {
        "id": "noFvx5jn8Rgt",
        "colab_type": "text"
      },
      "cell_type": "markdown",
      "source": [
        "# Winning Primaries\n",
        "### By Ali J. Shannon\n",
        "\n",
        "\n",
        "---\n",
        "\n",
        "In this module, I intend to find the probability of winning the primaries using predicive models brought by sklearn logistic regression modes found [here](https://scikit-learn.org/stable/modules/generated/sklearn.linear_model.LogisticRegression.html).\n",
        "\n",
        "I will also be using [Support Vector Machines](https://scikit-learn.org/stable/modules/svm.html) and [Decision Tree Classifier](https://scikit-learn.org/stable/modules/generated/sklearn.tree.DecisionTreeClassifier.html) from the sklearn libraries.\n",
        "\n",
        "The purpose of this model is find the best predictor of winning the primary elections. I will use features such as endorsement points and money raised to classify my data by whether or not they won the primary elections. \n",
        "\n",
        "Using this, I will train the machine learning models and test their accuracy with a set of data taken out of the data file but omitted from the testing set.\n",
        "\n",
        "\n",
        "---\n",
        "\n",
        "\n",
        "Information about the data used are found below."
      ]
    },
    {
      "metadata": {
        "id": "OEj9zOVO8PJO",
        "colab_type": "text"
      },
      "cell_type": "markdown",
      "source": [
        "# Endorsements through June 30\n",
        "\n",
        "This folder contains data behind the story [Pols And Polls Say The Same Thing: Jeb Bush Is A Weak Front-Runner](http://fivethirtyeight.com/features/pols-and-polls-say-the-same-thing-jeb-bush-is-a-weak-front-runner/).\n",
        "\n",
        "This data includes something we call \"endorsement points,\" an attempt to quantify the importance of endorsements by weighting each one according to the position held by the endorser: 10 points for each governor, 5 points for each senator and 1 point for each representative.\n",
        "\n",
        "Header | Definition\n",
        "---|---------\n",
        "`year` | Election year\n",
        "`party` | Political party\n",
        "`candidate` | Candidate running in primary\n",
        "`endorsement_points` | Weighted endorsements through June 30th of the year before the primary\n",
        "`percentage_endorsement_points` | Percentage of total weighted endorsement points for the candidate's political party through June 30th of the year before the primary\n",
        "`money_raised` | Money raised through June 30th of the year before the primary\n",
        "`percentage_of_money` | Percentage of total money raised by the candidate's political party through June 30th of the year before the primary\n",
        "`primary_vote_percentage` | Percentage of votes won in the primary\n",
        "`won_primary` | Did the candidate win the primary?\n"
      ]
    },
    {
      "metadata": {
        "id": "T4THi6lO2pE_",
        "colab_type": "code",
        "outputId": "040e8f76-43a4-40cd-8dd2-e10031ae88ce",
        "colab": {
          "base_uri": "https://localhost:8080/",
          "height": 197
        }
      },
      "cell_type": "code",
      "source": [
        "import pandas as pd\n",
        "import numpy as np\n",
        "\n",
        "\n",
        "df = pd.read_csv('endorsements-june-30.csv')\n",
        "\n",
        "df[df.columns[2:]].head()"
      ],
      "execution_count": 1,
      "outputs": [
        {
          "output_type": "execute_result",
          "data": {
            "text/html": [
              "<div>\n",
              "<style scoped>\n",
              "    .dataframe tbody tr th:only-of-type {\n",
              "        vertical-align: middle;\n",
              "    }\n",
              "\n",
              "    .dataframe tbody tr th {\n",
              "        vertical-align: top;\n",
              "    }\n",
              "\n",
              "    .dataframe thead th {\n",
              "        text-align: right;\n",
              "    }\n",
              "</style>\n",
              "<table border=\"1\" class=\"dataframe\">\n",
              "  <thead>\n",
              "    <tr style=\"text-align: right;\">\n",
              "      <th></th>\n",
              "      <th>candidate</th>\n",
              "      <th>endorsement_points</th>\n",
              "      <th>percentage_endorsement_points</th>\n",
              "      <th>money_raised</th>\n",
              "      <th>percentage_of_money</th>\n",
              "      <th>primary_vote_percentage</th>\n",
              "      <th>won_primary</th>\n",
              "    </tr>\n",
              "  </thead>\n",
              "  <tbody>\n",
              "    <tr>\n",
              "      <th>0</th>\n",
              "      <td>George H.W. Bush</td>\n",
              "      <td>5</td>\n",
              "      <td>6.32911</td>\n",
              "      <td>1475332.0</td>\n",
              "      <td>16.83</td>\n",
              "      <td>23.81</td>\n",
              "      <td>No</td>\n",
              "    </tr>\n",
              "    <tr>\n",
              "      <th>1</th>\n",
              "      <td>Lowell Weicker</td>\n",
              "      <td>0</td>\n",
              "      <td>0.00000</td>\n",
              "      <td>60000.0</td>\n",
              "      <td>0.68</td>\n",
              "      <td>0.00</td>\n",
              "      <td>No</td>\n",
              "    </tr>\n",
              "    <tr>\n",
              "      <th>2</th>\n",
              "      <td>Phil Crane</td>\n",
              "      <td>0</td>\n",
              "      <td>0.00000</td>\n",
              "      <td>2500000.0</td>\n",
              "      <td>28.53</td>\n",
              "      <td>0.76</td>\n",
              "      <td>No</td>\n",
              "    </tr>\n",
              "    <tr>\n",
              "      <th>3</th>\n",
              "      <td>John Connally</td>\n",
              "      <td>6</td>\n",
              "      <td>7.59494</td>\n",
              "      <td>2200000.0</td>\n",
              "      <td>25.10</td>\n",
              "      <td>0.64</td>\n",
              "      <td>No</td>\n",
              "    </tr>\n",
              "    <tr>\n",
              "      <th>4</th>\n",
              "      <td>Bob Dole</td>\n",
              "      <td>0</td>\n",
              "      <td>0.00000</td>\n",
              "      <td>253286.0</td>\n",
              "      <td>2.89</td>\n",
              "      <td>0.06</td>\n",
              "      <td>No</td>\n",
              "    </tr>\n",
              "  </tbody>\n",
              "</table>\n",
              "</div>"
            ],
            "text/plain": [
              "          candidate  endorsement_points  percentage_endorsement_points  \\\n",
              "0  George H.W. Bush                   5                        6.32911   \n",
              "1    Lowell Weicker                   0                        0.00000   \n",
              "2        Phil Crane                   0                        0.00000   \n",
              "3     John Connally                   6                        7.59494   \n",
              "4          Bob Dole                   0                        0.00000   \n",
              "\n",
              "   money_raised  percentage_of_money  primary_vote_percentage won_primary  \n",
              "0     1475332.0                16.83                    23.81          No  \n",
              "1       60000.0                 0.68                     0.00          No  \n",
              "2     2500000.0                28.53                     0.76          No  \n",
              "3     2200000.0                25.10                     0.64          No  \n",
              "4      253286.0                 2.89                     0.06          No  "
            ]
          },
          "metadata": {
            "tags": []
          },
          "execution_count": 1
        }
      ]
    },
    {
      "metadata": {
        "id": "2-rliI309NEp",
        "colab_type": "text"
      },
      "cell_type": "markdown",
      "source": [
        "#### Classifications\n",
        "\n",
        "I will break these columns as my classifiers:\n",
        "\n",
        "\n",
        "  1. Percentage of total weighted endorsement points for the candidate's political party through June 30th of the year before the primary\n",
        "  2.\tMoney raised through June 30th of the year before the primary\n",
        "  3. \tPercentage of total money raised by the candidate's political party through June 30th of the year before the primary\n",
        "  4. Percentage of votes won in the primary\n",
        "  \n",
        "It may become obvious that winning the primaries highly depends on the last feature: `precentage of votes`. However, if we test a logistic regression against another column, like the `money raised`, we will notice a significant impact on the classifiers.\n"
      ]
    },
    {
      "metadata": {
        "id": "lvVyJLKC2zrX",
        "colab_type": "code",
        "colab": {}
      },
      "cell_type": "code",
      "source": [
        "X = df[df.columns[3:8]].values\n",
        "y = df[df.columns[8]].values\n",
        "\n",
        "\n",
        "# take out every 5th element for accuracy testing\n",
        "test_idx = [x for x in range(len(y)) if x%5 == 0]\n",
        "\n",
        "y_train = np.delete(y, test_idx)\n",
        "X_train = np.delete(X, test_idx, axis = 0)\n",
        "\n",
        "y_test = [y[i] for i in test_idx]\n",
        "X_test = [X[i] for i in test_idx]"
      ],
      "execution_count": 0,
      "outputs": []
    },
    {
      "metadata": {
        "id": "PniMzU9h_aNA",
        "colab_type": "text"
      },
      "cell_type": "markdown",
      "source": [
        "Now I will use `LogisticRegression` to create the predictive model: `LogReg`"
      ]
    },
    {
      "metadata": {
        "id": "Dhyrxrgj3D9z",
        "colab_type": "code",
        "outputId": "7e5d585c-2ace-471d-b156-a40ecfee34b1",
        "colab": {
          "base_uri": "https://localhost:8080/",
          "height": 238
        }
      },
      "cell_type": "code",
      "source": [
        "from sklearn.linear_model import LogisticRegression\n",
        "\n",
        "LogReg = LogisticRegression(random_state=0, solver='lbfgs',\n",
        "                         multi_class='multinomial')\n",
        "\n",
        "LogReg = clf.fit(X_train, y_train)\n",
        "\n",
        "from sklearn.metrics import accuracy_score\n",
        "\n",
        "predictions = LogReg.predict(X_test)\n",
        "\n",
        "print(\"Using LogisticRegression, the accuracy compared to test values is {:.3}\".format(\n",
        "    accuracy_score(y_test, predictions))\n",
        ")"
      ],
      "execution_count": 3,
      "outputs": [
        {
          "output_type": "error",
          "ename": "NameError",
          "evalue": "ignored",
          "traceback": [
            "\u001b[0;31m---------------------------------------------------------------------------\u001b[0m",
            "\u001b[0;31mNameError\u001b[0m                                 Traceback (most recent call last)",
            "\u001b[0;32m<ipython-input-3-728492cb3323>\u001b[0m in \u001b[0;36m<module>\u001b[0;34m()\u001b[0m\n\u001b[1;32m      4\u001b[0m                          multi_class='multinomial')\n\u001b[1;32m      5\u001b[0m \u001b[0;34m\u001b[0m\u001b[0m\n\u001b[0;32m----> 6\u001b[0;31m \u001b[0mLogReg\u001b[0m \u001b[0;34m=\u001b[0m \u001b[0mclf\u001b[0m\u001b[0;34m.\u001b[0m\u001b[0mfit\u001b[0m\u001b[0;34m(\u001b[0m\u001b[0mX_train\u001b[0m\u001b[0;34m,\u001b[0m \u001b[0my_train\u001b[0m\u001b[0;34m)\u001b[0m\u001b[0;34m\u001b[0m\u001b[0;34m\u001b[0m\u001b[0m\n\u001b[0m\u001b[1;32m      7\u001b[0m \u001b[0;34m\u001b[0m\u001b[0m\n\u001b[1;32m      8\u001b[0m \u001b[0;32mfrom\u001b[0m \u001b[0msklearn\u001b[0m\u001b[0;34m.\u001b[0m\u001b[0mmetrics\u001b[0m \u001b[0;32mimport\u001b[0m \u001b[0maccuracy_score\u001b[0m\u001b[0;34m\u001b[0m\u001b[0;34m\u001b[0m\u001b[0m\n",
            "\u001b[0;31mNameError\u001b[0m: name 'clf' is not defined"
          ]
        }
      ]
    },
    {
      "metadata": {
        "id": "zp53mlZt3aRC",
        "colab_type": "code",
        "colab": {}
      },
      "cell_type": "code",
      "source": [
        "from sklearn import tree\n",
        "\n",
        "DecTree = tree.DecisionTreeClassifier()\n",
        "DecTree.fit(X_train, y_train)\n",
        "\n",
        "predictions = DecTree.predict(X_test)\n",
        "\n",
        "print(\"Using Decision Tree Classifier, the accuracy compared to test values is {:.3}\".format(\n",
        "    accuracy_score(y_test, predictions))\n",
        ")"
      ],
      "execution_count": 0,
      "outputs": []
    },
    {
      "metadata": {
        "id": "rrbDleFE7EaK",
        "colab_type": "code",
        "colab": {}
      },
      "cell_type": "code",
      "source": [
        "from sklearn import svm\n",
        "\n",
        "SuppVecM = svm.SVC(gamma='scale')\n",
        "SuppVecM.fit(X_train, y_train)\n",
        "\n",
        "predictions = SuppVecM.predict(X_test)\n",
        "\n",
        "print(\"Using Support Vector Machine, the accuracy compared to test values is {:.3}\".format(\n",
        "    accuracy_score(y_test, predictions))\n",
        ")"
      ],
      "execution_count": 0,
      "outputs": []
    },
    {
      "metadata": {
        "id": "91NuzGceAsql",
        "colab_type": "text"
      },
      "cell_type": "markdown",
      "source": [
        "#### Is the data too correated?\n",
        "\n",
        "Now I will check if the data is too highly correlated. I will use a plotting method since I only want to compare two features; `money raised` and `precentage of votes`."
      ]
    },
    {
      "metadata": {
        "id": "6E7S1WSHAcz0",
        "colab_type": "code",
        "colab": {}
      },
      "cell_type": "code",
      "source": [
        "import matplotlib.pyplot as plt\n",
        "\n",
        "u = df['primary_vote_percentage'].values\n",
        "v = df['money_raised'].values\n",
        "\n",
        "\n",
        "plt.plot(u, v, 'o')\n",
        "plt.xlabel('Primary Vote (%)')\n",
        "plt.ylabel('Money Raised ($)')\n",
        "plt.show()"
      ],
      "execution_count": 0,
      "outputs": []
    },
    {
      "metadata": {
        "id": "NQZiYOnCB-UV",
        "colab_type": "text"
      },
      "cell_type": "markdown",
      "source": [
        "Since it is difficult to come up with any simple polynomial that can relate the two, then they are at least not linearly correlated.\n",
        "\n",
        "Hence, with this I intend to use Decision Tree Classifier because it offers the highest accuracy of 100% compared to 91% by Support Vector Machine and Logistic Regression"
      ]
    },
    {
      "metadata": {
        "id": "bWhruBNLCrVH",
        "colab_type": "code",
        "colab": {}
      },
      "cell_type": "code",
      "source": [
        ""
      ],
      "execution_count": 0,
      "outputs": []
    }
  ]
}